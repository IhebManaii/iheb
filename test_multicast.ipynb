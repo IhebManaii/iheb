{
 "cells": [
  {
   "cell_type": "code",
   "execution_count": 1,
   "metadata": {},
   "outputs": [],
   "source": [
    "import pytest,os,sys,glob,shutil,shlex,subprocess,matplotlib,re,paramiko,argparse,time,pandas\n",
    "from numpy.random import randint\n",
    "import numpy as np\n",
    "import ast"
   ]
  },
  {
   "cell_type": "code",
   "execution_count": 2,
   "metadata": {},
   "outputs": [],
   "source": [
    "os.environ['PYTHONUNBUFFERED'] = '1'"
   ]
  },
  {
   "cell_type": "markdown",
   "metadata": {},
   "source": [
    "ipaddrs_range=\"[224.0.0.1,224.0.0.3]\"\n",
    "gw_ip=\"198.168.1.1\"\n",
    "gw_mac=\"d8:a7:56:a0:71:fa\"\n",
    "ssid_2g=\"Iheb_2.4ghz\"\n",
    "ssid_5g=\"Iheb_5ghz\"\n",
    "wifi_password=\"orangepark612\"\n",
    "server_mac=\"dc:a6:32:81:9d:87\"\n",
    "username_server=\"ihebserver\"\n",
    "password_server=\"iheeb\"\n",
    "client_mac=\"dc:a6:32:ba:a9:a6\"\n",
    "username_client=\"iheb\"\n",
    "password_client=\"iheeb0\"\n",
    "server_ip=\"192.168.1.173\"\n",
    "client_ip=\"192.168.1.172\"\n",
    "settings_id=\"1\"\n",
    "ports=[str(randint(0,1024))]\n",
    "\n",
    "range_splitted=ipaddrs_range.split('.')\n",
    "ipaddrs=[\"224.0.0.\"+str(i) for i in range(int(range_splitted[3][:(range_splitted[3]).index(',')]),(int(range_splitted[-1][:-1])+1))]\n",
    "print(ports,ipaddrs)"
   ]
  },
  {
   "cell_type": "code",
   "execution_count": 3,
   "metadata": {
    "collapsed": true,
    "jupyter": {
     "outputs_hidden": true
    }
   },
   "outputs": [
    {
     "ename": "SyntaxError",
     "evalue": "unmatched ')' (<ipython-input-3-ba1fc804c994>, line 23)",
     "output_type": "error",
     "traceback": [
      "\u001b[0;36m  File \u001b[0;32m\"<ipython-input-3-ba1fc804c994>\"\u001b[0;36m, line \u001b[0;32m23\u001b[0m\n\u001b[0;31m    ports=[str(port) for port in ports ])\u001b[0m\n\u001b[0m                                        ^\u001b[0m\n\u001b[0;31mSyntaxError\u001b[0m\u001b[0;31m:\u001b[0m unmatched ')'\n"
     ]
    }
   ],
   "source": [
    "settings_id=sys.argv[1][-1]\n",
    "if (settings_id=='1'):\n",
    "    parameter=[\"settings_id\",\"CSV_filename\",\"ipaddrs_range\",\"ports_range\",\"client_ip\",\"username_client\",\"password_client\",\"server_ip\",\"username_server\",\"password_server\",\"ssid_2g\",\"ssid_5g\",\"wifi_password\"]\n",
    "else:    \n",
    "    parameter=[\"settings_id\",\"CSV_filename\",\"ipaddrs_range\",\"ports_range\",\"server_mac\",\"username_server\",\"password_server\",\"client_mac\",\"username_client\",\"password_client\",\"ssid_2g\",\"ssid_5g\",\"wifi_password\"]\n",
    "    \n",
    "parser = argparse.ArgumentParser()\n",
    "\n",
    "\n",
    "for i in range(len(parameter)):\n",
    "    parser.add_argument('-'+parameter[i])\n",
    "namespace = parser.parse_args()\n",
    "locals().update(namespace.__dict__)\n",
    "\n",
    "\n",
    "def check_parameter(key,value):\n",
    "    if (value== None):\n",
    "        sys.exit(\"-\"+key+\"parameter has to be set!\")\n",
    "def check_all():\n",
    "    \"\"\"\n",
    "    Check that all the required parameters are set\n",
    "    \"\"\"  \n",
    "    required_parameters=namespace.__dict__\n",
    "    required_parameters.pop('ports_range',\"\")\n",
    "    for k,v in required_parameters:\n",
    "        check_parameter(k,v)\n",
    "\n",
    "\n",
    "if (ports_range!=None):\n",
    "    ports_range=ast.literal_eval(ports_range)\n",
    "    ports=list(np.arange(ports_range[0],(ports_range[1])+1))\n",
    "    ports=[str(port) for port in ports ]\n",
    "else:\n",
    "    ports=[str(randint(0,1024))]\n",
    "\n",
    "range_splitted=ipaddrs_range.split('.')\n",
    "ipaddrs=[\"224.0.0.\"+str(i) for i in range(int(range_splitted[3][:(range_splitted[3]).index(',')]),int(range_splitted[-1][:-1])+1)]"
   ]
  },
  {
   "cell_type": "code",
   "execution_count": 22,
   "metadata": {
    "collapsed": true,
    "jupyter": {
     "outputs_hidden": true
    }
   },
   "outputs": [
    {
     "ename": "NameError",
     "evalue": "name 'settings_id' is not defined",
     "output_type": "error",
     "traceback": [
      "\u001b[0;31m---------------------------------------------------------------------------\u001b[0m",
      "\u001b[0;31mNameError\u001b[0m                                 Traceback (most recent call last)",
      "\u001b[0;32m<ipython-input-22-95993b4b476a>\u001b[0m in \u001b[0;36m<module>\u001b[0;34m\u001b[0m\n\u001b[1;32m      7\u001b[0m     \u001b[0moutput\u001b[0m\u001b[0;34m=\u001b[0m\u001b[0mstr\u001b[0m\u001b[0;34m(\u001b[0m\u001b[0;34m(\u001b[0m\u001b[0msubprocess\u001b[0m\u001b[0;34m.\u001b[0m\u001b[0mPopen\u001b[0m\u001b[0;34m(\u001b[0m\u001b[0mshlex\u001b[0m\u001b[0;34m.\u001b[0m\u001b[0msplit\u001b[0m\u001b[0;34m(\u001b[0m\u001b[0mgrep_ip\u001b[0m\u001b[0;34m)\u001b[0m\u001b[0;34m,\u001b[0m\u001b[0mstdin\u001b[0m\u001b[0;34m=\u001b[0m\u001b[0marp_table\u001b[0m\u001b[0;34m.\u001b[0m\u001b[0mstdout\u001b[0m\u001b[0;34m,\u001b[0m \u001b[0mstdout\u001b[0m\u001b[0;34m=\u001b[0m\u001b[0msubprocess\u001b[0m\u001b[0;34m.\u001b[0m\u001b[0mPIPE\u001b[0m\u001b[0;34m)\u001b[0m\u001b[0;34m)\u001b[0m\u001b[0;34m.\u001b[0m\u001b[0mcommunicate\u001b[0m\u001b[0;34m(\u001b[0m\u001b[0;34m)\u001b[0m\u001b[0;34m)\u001b[0m\u001b[0;34m\u001b[0m\u001b[0;34m\u001b[0m\u001b[0m\n\u001b[1;32m      8\u001b[0m     \u001b[0;32mreturn\u001b[0m \u001b[0moutput\u001b[0m\u001b[0;34m[\u001b[0m\u001b[0moutput\u001b[0m\u001b[0;34m.\u001b[0m\u001b[0mfind\u001b[0m\u001b[0;34m(\u001b[0m\u001b[0;34m\"1\"\u001b[0m\u001b[0;34m)\u001b[0m\u001b[0;34m:\u001b[0m\u001b[0moutput\u001b[0m\u001b[0;34m.\u001b[0m\u001b[0mfind\u001b[0m\u001b[0;34m(\u001b[0m\u001b[0;34m\")\"\u001b[0m\u001b[0;34m)\u001b[0m\u001b[0;34m]\u001b[0m\u001b[0;34m\u001b[0m\u001b[0;34m\u001b[0m\u001b[0m\n\u001b[0;32m----> 9\u001b[0;31m \u001b[0;32mif\u001b[0m\u001b[0;34m(\u001b[0m\u001b[0msettings_id\u001b[0m\u001b[0;34m==\u001b[0m\u001b[0;34m\"2\"\u001b[0m\u001b[0;34m)\u001b[0m\u001b[0;34m:\u001b[0m\u001b[0;34m\u001b[0m\u001b[0;34m\u001b[0m\u001b[0m\n\u001b[0m\u001b[1;32m     10\u001b[0m     \u001b[0mserver_ip\u001b[0m\u001b[0;34m=\u001b[0m\u001b[0mrarp\u001b[0m\u001b[0;34m(\u001b[0m\u001b[0mserver_mac\u001b[0m\u001b[0;34m)\u001b[0m\u001b[0;34m\u001b[0m\u001b[0;34m\u001b[0m\u001b[0m\n\u001b[1;32m     11\u001b[0m     \u001b[0mclient_ip\u001b[0m\u001b[0;34m=\u001b[0m\u001b[0mrarp\u001b[0m\u001b[0;34m(\u001b[0m\u001b[0mclient_mac\u001b[0m\u001b[0;34m)\u001b[0m\u001b[0;34m\u001b[0m\u001b[0;34m\u001b[0m\u001b[0m\n",
      "\u001b[0;31mNameError\u001b[0m: name 'settings_id' is not defined"
     ]
    }
   ],
   "source": [
    "def rarp(mac):\n",
    "    bcast_ping=\"ping -b 192.168.1.255 -c 1\"\n",
    "    subprocess.call(shlex.split(bcast_ping))   \n",
    "    get_arp_table=\"arp -a\"   \n",
    "    grep_ip=\" grep \"+mac\n",
    "    arp_table=subprocess.Popen(shlex.split(get_arp_table),stdout=subprocess.PIPE)\n",
    "    output=str((subprocess.Popen(shlex.split(grep_ip),stdin=arp_table.stdout, stdout=subprocess.PIPE)).communicate())\n",
    "    return output[output.find(\"1\"):output.find(\")\")]\n",
    "if(settings_id==\"2\"):\n",
    "    server_ip=rarp(server_mac)\n",
    "    client_ip=rarp(client_mac)    "
   ]
  },
  {
   "cell_type": "code",
   "execution_count": 24,
   "metadata": {},
   "outputs": [
    {
     "data": {
      "text/plain": [
       "'192.168.1.172'"
      ]
     },
     "execution_count": 24,
     "metadata": {},
     "output_type": "execute_result"
    }
   ],
   "source": [
    "client_ip"
   ]
  },
  {
   "cell_type": "code",
   "execution_count": 25,
   "metadata": {},
   "outputs": [],
   "source": [
    "ssh_client = paramiko.SSHClient()\n",
    "ssh_client.set_missing_host_key_policy(paramiko.AutoAddPolicy())\n",
    "ssh_client.connect(client_ip, username=username_client, password=password_client)"
   ]
  },
  {
   "cell_type": "code",
   "execution_count": 26,
   "metadata": {},
   "outputs": [],
   "source": [
    "ssh_server = paramiko.SSHClient()\n",
    "ssh_server.set_missing_host_key_policy(paramiko.AutoAddPolicy())\n",
    "ssh_server.connect(server_ip, username=username_server, password=password_server)"
   ]
  },
  {
   "cell_type": "code",
   "execution_count": 27,
   "metadata": {},
   "outputs": [],
   "source": [
    "from socket import timeout"
   ]
  },
  {
   "cell_type": "code",
   "execution_count": 30,
   "metadata": {},
   "outputs": [],
   "source": [
    "def wait4response(shell):\n",
    "    while not shell.recv_ready():\n",
    "        time.sleep(0.5)\n",
    "    shell.recv(100000)\n",
    "\n",
    "def wait4expected(shell,expected,error):\n",
    "    shell.settimeout(90)\n",
    "    try:\n",
    "        recovered=str(shell.recv(100000))\n",
    "        while (((recovered.find(expected))==(-1)) and ((recovered.find(error))==(-1))):\n",
    "            time.sleep(0.5)\n",
    "            recovered=str(shell.recv(100000))\n",
    "        if(recovered.find(error)!=(-1)):\n",
    "            sys.exit(\"Error: \"+error)\n",
    "        return recovered\n",
    "    except timeout:\n",
    "        sys.exit(\"Timeout error: \"+error)\n",
    "#     shell.settimeout(None)\n",
    "    \n",
    "    \n",
    "def connectWifi(ssid):\n",
    "        return \"nmcli dev wifi connect \"+ssid+\" password \"+wifi_password+\"\\n\"\n",
    "\n",
    "def no_autoconnect(ssid):\n",
    "        return \"nmcli con modify \"+ssid+\" autoconnect no\\n\"\n",
    "\n",
    "\n",
    "combinations=[\"Eth-Eth\",\"Eth-2.4GHZ\",\"Eth-5GHZ\",\"2.4GHZ-Eth\",\"2.4GHZ-2.4GHZ\",\"2.4GHZ-5GHZ\",\"5GHZ-Eth\",\"5GHZ-2.4GHZ\",\"5GHZ-5GHZ\"]\n",
    "\n",
    "server_shell =ssh_server.invoke_shell()\n",
    "time.sleep(1)\n",
    "wait4response(server_shell)\n",
    "\n",
    "\n",
    "client_shell =ssh_client.invoke_shell()\n",
    "time.sleep(1)\n",
    "wait4response(client_shell)\n",
    "\n",
    "def shellnWifi_prepare(shell,passwd):\n",
    "    shell.send(\"sudo su\\n\")\n",
    "    wait4response(shell)\n",
    "\n",
    "    shell.send(passwd+\"\\n\")\n",
    "    wait4response(shell)\n",
    "\n",
    "    wifion=\"nmcli r wifi on\\n\"\n",
    "    shell.send(wifion)\n",
    "    wait4response(shell)\n",
    "\n",
    "    rescan=\"nmcli device wifi rescan\\n\"\n",
    "    shell.send(rescan)\n",
    "    wait4response(shell)\n",
    "\n",
    "    if(settings_id==\"2\"):\n",
    "        shell.send(connectWifi(ssid_2g))\n",
    "        wait4expected(shell,\"successfully activated\",\"2.4Ghz connection activation failed. Try to manually connect to the wifi or change the wifi channel and try again.\")\n",
    "\n",
    "        shell.send(connectWifi(ssid_5g))\n",
    "        wait4expected(shell,\"successfully activated\",\"5Ghz connection activation failed. Try to manually connect to the wifi or change the wifi channel and try again.\")\n",
    "\n",
    "    shell.send(no_autoconnect(ssid_2g))\n",
    "    shell.send(no_autoconnect(ssid_5g))\n",
    "\n",
    "shellnWifi_prepare(client_shell,password_client)   \n",
    "shellnWifi_prepare(server_shell,password_server)\n",
    "\n",
    "\n",
    "def connect(shell,ssid=-1):\n",
    "    if(ssid!=(-1)):\n",
    "        shell.send(\"nmcli con up \"+ssid+\"\\n\")\n",
    "        wait4expected(shell,\"successfully activated\",ssid+' activation failed')\n",
    "    else:\n",
    "        shell.send(\"sudo nmcli con down $(nmcli con show -a )\\n\")\n",
    "        wait4expected(shell,\"Error\",\"No Error is expected\")\n",
    "        #wait4expected(shell,\"active connections found\",\"No connection specified.\")\n",
    "            "
   ]
  },
  {
   "cell_type": "code",
   "execution_count": 51,
   "metadata": {},
   "outputs": [],
   "source": [
    "def wait4expected(shell,expected,error):\n",
    "    shell.settimeout(1)\n",
    "    try:\n",
    "        recovered=str(shell.recv(100000))\n",
    "        while (((recovered.find(expected))==(-1)) and ((recovered.find(error))==(-1))):\n",
    "            time.sleep(0.5)\n",
    "            recovered=str(shell.recv(100000))\n",
    "        if(recovered.find(error)!=(-1)):\n",
    "            sys.exit(\"Error:\"+error)\n",
    "        print(recovered)\n",
    "    except timeout:\n",
    "        sys.exit(\"Timeout error:\"+error)"
   ]
  },
  {
   "cell_type": "code",
   "execution_count": 52,
   "metadata": {},
   "outputs": [
    {
     "data": {
      "text/plain": [
       "25"
      ]
     },
     "execution_count": 52,
     "metadata": {},
     "output_type": "execute_result"
    }
   ],
   "source": [
    "client_shell.send(\"nmcli con up \"+ssid_2g+\"\\n\")"
   ]
  },
  {
   "cell_type": "code",
   "execution_count": 53,
   "metadata": {},
   "outputs": [
    {
     "name": "stderr",
     "output_type": "stream",
     "text": [
      "ERROR:root:Internal Python error in the inspect module.\n",
      "Below is the traceback from this internal error.\n",
      "\n"
     ]
    },
    {
     "name": "stdout",
     "output_type": "stream",
     "text": [
      "Traceback (most recent call last):\n",
      "  File \"/root/anaconda3/lib/python3.8/site-packages/paramiko/channel.py\", line 699, in recv\n",
      "    out = self.in_buffer.read(nbytes, self.timeout)\n",
      "  File \"/root/anaconda3/lib/python3.8/site-packages/paramiko/buffered_pipe.py\", line 164, in read\n",
      "    raise PipeTimeout()\n",
      "paramiko.buffered_pipe.PipeTimeout\n",
      "\n",
      "During handling of the above exception, another exception occurred:\n",
      "\n",
      "Traceback (most recent call last):\n",
      "  File \"<ipython-input-51-99cd3080de3a>\", line 7, in wait4expected\n",
      "    recovered=str(shell.recv(100000))\n",
      "  File \"/root/anaconda3/lib/python3.8/site-packages/paramiko/channel.py\", line 701, in recv\n",
      "    raise socket.timeout()\n",
      "socket.timeout\n",
      "\n",
      "During handling of the above exception, another exception occurred:\n",
      "\n",
      "Traceback (most recent call last):\n",
      "  File \"/root/anaconda3/lib/python3.8/site-packages/IPython/core/interactiveshell.py\", line 3418, in run_code\n",
      "    exec(code_obj, self.user_global_ns, self.user_ns)\n",
      "  File \"<ipython-input-53-067c1c6f0d33>\", line 1, in <module>\n",
      "    wait4expected(client_shell,\"successfully activated\",ssid_2g+'activation failed')\n",
      "  File \"<ipython-input-51-99cd3080de3a>\", line 12, in wait4expected\n",
      "    sys.exit(\"Timeout error:\"+error)\n",
      "SystemExit: Timeout error:Iheb_2.4ghzactivation failed\n",
      "\n",
      "During handling of the above exception, another exception occurred:\n",
      "\n",
      "Traceback (most recent call last):\n",
      "  File \"/root/anaconda3/lib/python3.8/site-packages/IPython/core/ultratb.py\", line 1170, in get_records\n",
      "    return _fixed_getinnerframes(etb, number_of_lines_of_context, tb_offset)\n",
      "  File \"/root/anaconda3/lib/python3.8/site-packages/IPython/core/ultratb.py\", line 316, in wrapped\n",
      "    return f(*args, **kwargs)\n",
      "  File \"/root/anaconda3/lib/python3.8/site-packages/IPython/core/ultratb.py\", line 350, in _fixed_getinnerframes\n",
      "    records = fix_frame_records_filenames(inspect.getinnerframes(etb, context))\n",
      "  File \"/root/anaconda3/lib/python3.8/inspect.py\", line 1503, in getinnerframes\n",
      "    frameinfo = (tb.tb_frame,) + getframeinfo(tb, context)\n",
      "AttributeError: 'tuple' object has no attribute 'tb_frame'\n"
     ]
    },
    {
     "ename": "TypeError",
     "evalue": "object of type 'NoneType' has no len()",
     "output_type": "error",
     "traceback": [
      "\u001b[0;31m---------------------------------------------------------------------------\u001b[0m",
      "\u001b[0;31mPipeTimeout\u001b[0m                               Traceback (most recent call last)",
      "\u001b[0;32m~/anaconda3/lib/python3.8/site-packages/paramiko/channel.py\u001b[0m in \u001b[0;36mrecv\u001b[0;34m(self, nbytes)\u001b[0m\n\u001b[1;32m    698\u001b[0m         \u001b[0;32mtry\u001b[0m\u001b[0;34m:\u001b[0m\u001b[0;34m\u001b[0m\u001b[0;34m\u001b[0m\u001b[0m\n\u001b[0;32m--> 699\u001b[0;31m             \u001b[0mout\u001b[0m \u001b[0;34m=\u001b[0m \u001b[0mself\u001b[0m\u001b[0;34m.\u001b[0m\u001b[0min_buffer\u001b[0m\u001b[0;34m.\u001b[0m\u001b[0mread\u001b[0m\u001b[0;34m(\u001b[0m\u001b[0mnbytes\u001b[0m\u001b[0;34m,\u001b[0m \u001b[0mself\u001b[0m\u001b[0;34m.\u001b[0m\u001b[0mtimeout\u001b[0m\u001b[0;34m)\u001b[0m\u001b[0;34m\u001b[0m\u001b[0;34m\u001b[0m\u001b[0m\n\u001b[0m\u001b[1;32m    700\u001b[0m         \u001b[0;32mexcept\u001b[0m \u001b[0mPipeTimeout\u001b[0m\u001b[0;34m:\u001b[0m\u001b[0;34m\u001b[0m\u001b[0;34m\u001b[0m\u001b[0m\n",
      "\u001b[0;32m~/anaconda3/lib/python3.8/site-packages/paramiko/buffered_pipe.py\u001b[0m in \u001b[0;36mread\u001b[0;34m(self, nbytes, timeout)\u001b[0m\n\u001b[1;32m    163\u001b[0m                         \u001b[0;32mif\u001b[0m \u001b[0mtimeout\u001b[0m \u001b[0;34m<=\u001b[0m \u001b[0;36m0.0\u001b[0m\u001b[0;34m:\u001b[0m\u001b[0;34m\u001b[0m\u001b[0;34m\u001b[0m\u001b[0m\n\u001b[0;32m--> 164\u001b[0;31m                             \u001b[0;32mraise\u001b[0m \u001b[0mPipeTimeout\u001b[0m\u001b[0;34m(\u001b[0m\u001b[0;34m)\u001b[0m\u001b[0;34m\u001b[0m\u001b[0;34m\u001b[0m\u001b[0m\n\u001b[0m\u001b[1;32m    165\u001b[0m \u001b[0;34m\u001b[0m\u001b[0m\n",
      "\u001b[0;31mPipeTimeout\u001b[0m: ",
      "\nDuring handling of the above exception, another exception occurred:\n",
      "\u001b[0;31mtimeout\u001b[0m                                   Traceback (most recent call last)",
      "\u001b[0;32m<ipython-input-51-99cd3080de3a>\u001b[0m in \u001b[0;36mwait4expected\u001b[0;34m(shell, expected, error)\u001b[0m\n\u001b[1;32m      6\u001b[0m             \u001b[0mtime\u001b[0m\u001b[0;34m.\u001b[0m\u001b[0msleep\u001b[0m\u001b[0;34m(\u001b[0m\u001b[0;36m0.5\u001b[0m\u001b[0;34m)\u001b[0m\u001b[0;34m\u001b[0m\u001b[0;34m\u001b[0m\u001b[0m\n\u001b[0;32m----> 7\u001b[0;31m             \u001b[0mrecovered\u001b[0m\u001b[0;34m=\u001b[0m\u001b[0mstr\u001b[0m\u001b[0;34m(\u001b[0m\u001b[0mshell\u001b[0m\u001b[0;34m.\u001b[0m\u001b[0mrecv\u001b[0m\u001b[0;34m(\u001b[0m\u001b[0;36m100000\u001b[0m\u001b[0;34m)\u001b[0m\u001b[0;34m)\u001b[0m\u001b[0;34m\u001b[0m\u001b[0;34m\u001b[0m\u001b[0m\n\u001b[0m\u001b[1;32m      8\u001b[0m         \u001b[0;32mif\u001b[0m\u001b[0;34m(\u001b[0m\u001b[0mrecovered\u001b[0m\u001b[0;34m.\u001b[0m\u001b[0mfind\u001b[0m\u001b[0;34m(\u001b[0m\u001b[0merror\u001b[0m\u001b[0;34m)\u001b[0m\u001b[0;34m!=\u001b[0m\u001b[0;34m(\u001b[0m\u001b[0;34m-\u001b[0m\u001b[0;36m1\u001b[0m\u001b[0;34m)\u001b[0m\u001b[0;34m)\u001b[0m\u001b[0;34m:\u001b[0m\u001b[0;34m\u001b[0m\u001b[0;34m\u001b[0m\u001b[0m\n",
      "\u001b[0;32m~/anaconda3/lib/python3.8/site-packages/paramiko/channel.py\u001b[0m in \u001b[0;36mrecv\u001b[0;34m(self, nbytes)\u001b[0m\n\u001b[1;32m    700\u001b[0m         \u001b[0;32mexcept\u001b[0m \u001b[0mPipeTimeout\u001b[0m\u001b[0;34m:\u001b[0m\u001b[0;34m\u001b[0m\u001b[0;34m\u001b[0m\u001b[0m\n\u001b[0;32m--> 701\u001b[0;31m             \u001b[0;32mraise\u001b[0m \u001b[0msocket\u001b[0m\u001b[0;34m.\u001b[0m\u001b[0mtimeout\u001b[0m\u001b[0;34m(\u001b[0m\u001b[0;34m)\u001b[0m\u001b[0;34m\u001b[0m\u001b[0;34m\u001b[0m\u001b[0m\n\u001b[0m\u001b[1;32m    702\u001b[0m \u001b[0;34m\u001b[0m\u001b[0m\n",
      "\u001b[0;31mtimeout\u001b[0m: ",
      "\nDuring handling of the above exception, another exception occurred:\n",
      "\u001b[0;31mSystemExit\u001b[0m                                Traceback (most recent call last)",
      "    \u001b[0;31m[... skipping hidden 1 frame]\u001b[0m\n",
      "\u001b[0;32m<ipython-input-53-067c1c6f0d33>\u001b[0m in \u001b[0;36m<module>\u001b[0;34m\u001b[0m\n\u001b[0;32m----> 1\u001b[0;31m \u001b[0mwait4expected\u001b[0m\u001b[0;34m(\u001b[0m\u001b[0mclient_shell\u001b[0m\u001b[0;34m,\u001b[0m\u001b[0;34m\"successfully activated\"\u001b[0m\u001b[0;34m,\u001b[0m\u001b[0mssid_2g\u001b[0m\u001b[0;34m+\u001b[0m\u001b[0;34m'activation failed'\u001b[0m\u001b[0;34m)\u001b[0m\u001b[0;34m\u001b[0m\u001b[0;34m\u001b[0m\u001b[0m\n\u001b[0m",
      "\u001b[0;32m<ipython-input-51-99cd3080de3a>\u001b[0m in \u001b[0;36mwait4expected\u001b[0;34m(shell, expected, error)\u001b[0m\n\u001b[1;32m     11\u001b[0m     \u001b[0;32mexcept\u001b[0m \u001b[0mtimeout\u001b[0m\u001b[0;34m:\u001b[0m\u001b[0;34m\u001b[0m\u001b[0;34m\u001b[0m\u001b[0m\n\u001b[0;32m---> 12\u001b[0;31m         \u001b[0msys\u001b[0m\u001b[0;34m.\u001b[0m\u001b[0mexit\u001b[0m\u001b[0;34m(\u001b[0m\u001b[0;34m\"Timeout error:\"\u001b[0m\u001b[0;34m+\u001b[0m\u001b[0merror\u001b[0m\u001b[0;34m)\u001b[0m\u001b[0;34m\u001b[0m\u001b[0;34m\u001b[0m\u001b[0m\n\u001b[0m",
      "\u001b[0;31mSystemExit\u001b[0m: Timeout error:Iheb_2.4ghzactivation failed",
      "\nDuring handling of the above exception, another exception occurred:\n",
      "\u001b[0;31mTypeError\u001b[0m                                 Traceback (most recent call last)",
      "    \u001b[0;31m[... skipping hidden 1 frame]\u001b[0m\n",
      "\u001b[0;32m~/anaconda3/lib/python3.8/site-packages/IPython/core/interactiveshell.py\u001b[0m in \u001b[0;36mshowtraceback\u001b[0;34m(self, exc_tuple, filename, tb_offset, exception_only, running_compiled_code)\u001b[0m\n\u001b[1;32m   2036\u001b[0m                     stb = ['An exception has occurred, use %tb to see '\n\u001b[1;32m   2037\u001b[0m                            'the full traceback.\\n']\n\u001b[0;32m-> 2038\u001b[0;31m                     stb.extend(self.InteractiveTB.get_exception_only(etype,\n\u001b[0m\u001b[1;32m   2039\u001b[0m                                                                      value))\n\u001b[1;32m   2040\u001b[0m                 \u001b[0;32melse\u001b[0m\u001b[0;34m:\u001b[0m\u001b[0;34m\u001b[0m\u001b[0;34m\u001b[0m\u001b[0m\n",
      "\u001b[0;32m~/anaconda3/lib/python3.8/site-packages/IPython/core/ultratb.py\u001b[0m in \u001b[0;36mget_exception_only\u001b[0;34m(self, etype, value)\u001b[0m\n\u001b[1;32m    821\u001b[0m         \u001b[0mvalue\u001b[0m \u001b[0;34m:\u001b[0m \u001b[0mexception\u001b[0m \u001b[0mvalue\u001b[0m\u001b[0;34m\u001b[0m\u001b[0;34m\u001b[0m\u001b[0m\n\u001b[1;32m    822\u001b[0m         \"\"\"\n\u001b[0;32m--> 823\u001b[0;31m         \u001b[0;32mreturn\u001b[0m \u001b[0mListTB\u001b[0m\u001b[0;34m.\u001b[0m\u001b[0mstructured_traceback\u001b[0m\u001b[0;34m(\u001b[0m\u001b[0mself\u001b[0m\u001b[0;34m,\u001b[0m \u001b[0metype\u001b[0m\u001b[0;34m,\u001b[0m \u001b[0mvalue\u001b[0m\u001b[0;34m)\u001b[0m\u001b[0;34m\u001b[0m\u001b[0;34m\u001b[0m\u001b[0m\n\u001b[0m\u001b[1;32m    824\u001b[0m \u001b[0;34m\u001b[0m\u001b[0m\n\u001b[1;32m    825\u001b[0m     \u001b[0;32mdef\u001b[0m \u001b[0mshow_exception_only\u001b[0m\u001b[0;34m(\u001b[0m\u001b[0mself\u001b[0m\u001b[0;34m,\u001b[0m \u001b[0metype\u001b[0m\u001b[0;34m,\u001b[0m \u001b[0mevalue\u001b[0m\u001b[0;34m)\u001b[0m\u001b[0;34m:\u001b[0m\u001b[0;34m\u001b[0m\u001b[0;34m\u001b[0m\u001b[0m\n",
      "\u001b[0;32m~/anaconda3/lib/python3.8/site-packages/IPython/core/ultratb.py\u001b[0m in \u001b[0;36mstructured_traceback\u001b[0;34m(self, etype, evalue, etb, tb_offset, context)\u001b[0m\n\u001b[1;32m    696\u001b[0m             \u001b[0mchained_exceptions_tb_offset\u001b[0m \u001b[0;34m=\u001b[0m \u001b[0;36m0\u001b[0m\u001b[0;34m\u001b[0m\u001b[0;34m\u001b[0m\u001b[0m\n\u001b[1;32m    697\u001b[0m             out_list = (\n\u001b[0;32m--> 698\u001b[0;31m                 self.structured_traceback(\n\u001b[0m\u001b[1;32m    699\u001b[0m                     \u001b[0metype\u001b[0m\u001b[0;34m,\u001b[0m \u001b[0mevalue\u001b[0m\u001b[0;34m,\u001b[0m \u001b[0;34m(\u001b[0m\u001b[0metb\u001b[0m\u001b[0;34m,\u001b[0m \u001b[0mchained_exc_ids\u001b[0m\u001b[0;34m)\u001b[0m\u001b[0;34m,\u001b[0m\u001b[0;34m\u001b[0m\u001b[0;34m\u001b[0m\u001b[0m\n\u001b[1;32m    700\u001b[0m                     chained_exceptions_tb_offset, context)\n",
      "\u001b[0;32m~/anaconda3/lib/python3.8/site-packages/IPython/core/ultratb.py\u001b[0m in \u001b[0;36mstructured_traceback\u001b[0;34m(self, etype, value, tb, tb_offset, number_of_lines_of_context)\u001b[0m\n\u001b[1;32m   1434\u001b[0m         \u001b[0;32melse\u001b[0m\u001b[0;34m:\u001b[0m\u001b[0;34m\u001b[0m\u001b[0;34m\u001b[0m\u001b[0m\n\u001b[1;32m   1435\u001b[0m             \u001b[0mself\u001b[0m\u001b[0;34m.\u001b[0m\u001b[0mtb\u001b[0m \u001b[0;34m=\u001b[0m \u001b[0mtb\u001b[0m\u001b[0;34m\u001b[0m\u001b[0;34m\u001b[0m\u001b[0m\n\u001b[0;32m-> 1436\u001b[0;31m         return FormattedTB.structured_traceback(\n\u001b[0m\u001b[1;32m   1437\u001b[0m             self, etype, value, tb, tb_offset, number_of_lines_of_context)\n\u001b[1;32m   1438\u001b[0m \u001b[0;34m\u001b[0m\u001b[0m\n",
      "\u001b[0;32m~/anaconda3/lib/python3.8/site-packages/IPython/core/ultratb.py\u001b[0m in \u001b[0;36mstructured_traceback\u001b[0;34m(self, etype, value, tb, tb_offset, number_of_lines_of_context)\u001b[0m\n\u001b[1;32m   1334\u001b[0m         \u001b[0;32mif\u001b[0m \u001b[0mmode\u001b[0m \u001b[0;32min\u001b[0m \u001b[0mself\u001b[0m\u001b[0;34m.\u001b[0m\u001b[0mverbose_modes\u001b[0m\u001b[0;34m:\u001b[0m\u001b[0;34m\u001b[0m\u001b[0;34m\u001b[0m\u001b[0m\n\u001b[1;32m   1335\u001b[0m             \u001b[0;31m# Verbose modes need a full traceback\u001b[0m\u001b[0;34m\u001b[0m\u001b[0;34m\u001b[0m\u001b[0;34m\u001b[0m\u001b[0m\n\u001b[0;32m-> 1336\u001b[0;31m             return VerboseTB.structured_traceback(\n\u001b[0m\u001b[1;32m   1337\u001b[0m                 \u001b[0mself\u001b[0m\u001b[0;34m,\u001b[0m \u001b[0metype\u001b[0m\u001b[0;34m,\u001b[0m \u001b[0mvalue\u001b[0m\u001b[0;34m,\u001b[0m \u001b[0mtb\u001b[0m\u001b[0;34m,\u001b[0m \u001b[0mtb_offset\u001b[0m\u001b[0;34m,\u001b[0m \u001b[0mnumber_of_lines_of_context\u001b[0m\u001b[0;34m\u001b[0m\u001b[0;34m\u001b[0m\u001b[0m\n\u001b[1;32m   1338\u001b[0m             )\n",
      "\u001b[0;32m~/anaconda3/lib/python3.8/site-packages/IPython/core/ultratb.py\u001b[0m in \u001b[0;36mstructured_traceback\u001b[0;34m(self, etype, evalue, etb, tb_offset, number_of_lines_of_context)\u001b[0m\n\u001b[1;32m   1191\u001b[0m         \u001b[0;34m\"\"\"Return a nice text document describing the traceback.\"\"\"\u001b[0m\u001b[0;34m\u001b[0m\u001b[0;34m\u001b[0m\u001b[0m\n\u001b[1;32m   1192\u001b[0m \u001b[0;34m\u001b[0m\u001b[0m\n\u001b[0;32m-> 1193\u001b[0;31m         formatted_exception = self.format_exception_as_a_whole(etype, evalue, etb, number_of_lines_of_context,\n\u001b[0m\u001b[1;32m   1194\u001b[0m                                                                tb_offset)\n\u001b[1;32m   1195\u001b[0m \u001b[0;34m\u001b[0m\u001b[0m\n",
      "\u001b[0;32m~/anaconda3/lib/python3.8/site-packages/IPython/core/ultratb.py\u001b[0m in \u001b[0;36mformat_exception_as_a_whole\u001b[0;34m(self, etype, evalue, etb, number_of_lines_of_context, tb_offset)\u001b[0m\n\u001b[1;32m   1149\u001b[0m \u001b[0;34m\u001b[0m\u001b[0m\n\u001b[1;32m   1150\u001b[0m \u001b[0;34m\u001b[0m\u001b[0m\n\u001b[0;32m-> 1151\u001b[0;31m         \u001b[0mlast_unique\u001b[0m\u001b[0;34m,\u001b[0m \u001b[0mrecursion_repeat\u001b[0m \u001b[0;34m=\u001b[0m \u001b[0mfind_recursion\u001b[0m\u001b[0;34m(\u001b[0m\u001b[0morig_etype\u001b[0m\u001b[0;34m,\u001b[0m \u001b[0mevalue\u001b[0m\u001b[0;34m,\u001b[0m \u001b[0mrecords\u001b[0m\u001b[0;34m)\u001b[0m\u001b[0;34m\u001b[0m\u001b[0;34m\u001b[0m\u001b[0m\n\u001b[0m\u001b[1;32m   1152\u001b[0m \u001b[0;34m\u001b[0m\u001b[0m\n\u001b[1;32m   1153\u001b[0m         \u001b[0mframes\u001b[0m \u001b[0;34m=\u001b[0m \u001b[0mself\u001b[0m\u001b[0;34m.\u001b[0m\u001b[0mformat_records\u001b[0m\u001b[0;34m(\u001b[0m\u001b[0mrecords\u001b[0m\u001b[0;34m,\u001b[0m \u001b[0mlast_unique\u001b[0m\u001b[0;34m,\u001b[0m \u001b[0mrecursion_repeat\u001b[0m\u001b[0;34m)\u001b[0m\u001b[0;34m\u001b[0m\u001b[0;34m\u001b[0m\u001b[0m\n",
      "\u001b[0;32m~/anaconda3/lib/python3.8/site-packages/IPython/core/ultratb.py\u001b[0m in \u001b[0;36mfind_recursion\u001b[0;34m(etype, value, records)\u001b[0m\n\u001b[1;32m    449\u001b[0m     \u001b[0;31m# first frame (from in to out) that looks different.\u001b[0m\u001b[0;34m\u001b[0m\u001b[0;34m\u001b[0m\u001b[0;34m\u001b[0m\u001b[0m\n\u001b[1;32m    450\u001b[0m     \u001b[0;32mif\u001b[0m \u001b[0;32mnot\u001b[0m \u001b[0mis_recursion_error\u001b[0m\u001b[0;34m(\u001b[0m\u001b[0metype\u001b[0m\u001b[0;34m,\u001b[0m \u001b[0mvalue\u001b[0m\u001b[0;34m,\u001b[0m \u001b[0mrecords\u001b[0m\u001b[0;34m)\u001b[0m\u001b[0;34m:\u001b[0m\u001b[0;34m\u001b[0m\u001b[0;34m\u001b[0m\u001b[0m\n\u001b[0;32m--> 451\u001b[0;31m         \u001b[0;32mreturn\u001b[0m \u001b[0mlen\u001b[0m\u001b[0;34m(\u001b[0m\u001b[0mrecords\u001b[0m\u001b[0;34m)\u001b[0m\u001b[0;34m,\u001b[0m \u001b[0;36m0\u001b[0m\u001b[0;34m\u001b[0m\u001b[0;34m\u001b[0m\u001b[0m\n\u001b[0m\u001b[1;32m    452\u001b[0m \u001b[0;34m\u001b[0m\u001b[0m\n\u001b[1;32m    453\u001b[0m     \u001b[0;31m# Select filename, lineno, func_name to track frames with\u001b[0m\u001b[0;34m\u001b[0m\u001b[0;34m\u001b[0m\u001b[0;34m\u001b[0m\u001b[0m\n",
      "\u001b[0;31mTypeError\u001b[0m: object of type 'NoneType' has no len()"
     ]
    }
   ],
   "source": [
    "wait4expected(client_shell,\"successfully activated\",ssid_2g+'activation failed')"
   ]
  },
  {
   "cell_type": "code",
   "execution_count": 48,
   "metadata": {},
   "outputs": [
    {
     "data": {
      "text/plain": [
       "b'root@iheb:/home/iheb# nmcli con up Iheb_5ghz\\r\\n'"
      ]
     },
     "execution_count": 48,
     "metadata": {},
     "output_type": "execute_result"
    }
   ],
   "source": [
    "client_shell.recv(100000)"
   ]
  },
  {
   "cell_type": "code",
   "execution_count": 49,
   "metadata": {},
   "outputs": [
    {
     "data": {
      "text/plain": [
       "b'Connection successfully activated (D-Bus active path: /org/freedesktop/NetworkManager/ActiveConnection/18)\\r\\n'"
      ]
     },
     "execution_count": 49,
     "metadata": {},
     "output_type": "execute_result"
    }
   ],
   "source": [
    "client_shell.recv(100000)"
   ]
  },
  {
   "cell_type": "code",
   "execution_count": 32,
   "metadata": {
    "collapsed": true,
    "jupyter": {
     "outputs_hidden": true
    }
   },
   "outputs": [
    {
     "name": "stdout",
     "output_type": "stream",
     "text": [
      "b'[ ID] Interval       Transfer     Bandwidth        Jitter   Lost/Total Datagrams\\r\\n[  3]  0.0- 3.0 sec   385 KBytes  1.05 Mbits/sec   0.035 ms    0/  268 (0%)\\r\\n'\n",
      "\n",
      "\n",
      "\n",
      "b'[ ID] Interval       Transfer     Bandwidth        Jitter   Lost/Total Datagrams\\r\\n[  3]  0.0- 3.0 sec   385 KBytes  1.05 Mbits/sec   0.033 ms    0/  268 (0%)\\r\\n'\n",
      "\n",
      "\n",
      "\n",
      "b'[  3]  0.0- 3.0 sec   385 KBytes  1.05 Mbits/sec   0.020 ms    0/  268 (0%)\\r\\n[  4]  0.0- 3.0 sec   385 KBytes  1.05 Mbits/sec   0.020 ms    0/  268 (0%)\\r\\n'\n",
      "\n",
      "\n",
      "\n",
      "b'[ ID] Interval       Transfer     Bandwidth        Jitter   Lost/Total Datagrams\\r\\n[  3]  0.0- 3.0 sec   385 KBytes  1.05 Mbits/sec   0.032 ms    0/  268 (0%)\\r\\n'\n",
      "\n",
      "\n",
      "\n",
      "b'[  3]  0.0- 3.0 sec   769 KBytes  2.12 Mbits/sec  13.438 ms    0/  268 (0%)\\r\\n[  3] 0.0000-2.9667 sec  268 datagrams received out-of-order'\n",
      "\n",
      "\n",
      "\n",
      "b'iperf -s -u -B 224.0.0.2 -p 582 & sleep 4\\r\\n[  4]  0.0- 3.0 sec   769 KBytes  2.10 Mbits/sec  13.438 ms    0/  268 (0%)\\r\\n[  4] 0.0000-3.0031 sec  268 datagrams received out-of-order\\r\\n[  3] local 224.0.0.1 port 582 connected with 192.168.1.172 port 58040\\r\\n'\n",
      "\n",
      "\n",
      "\n",
      "b'[ ID] Interval       Transfer     Bandwidth        Jitter   Lost/Total Datagrams\\r\\n[  3]  0.0- 2.1 sec   544 KBytes  2.10 Mbits/sec  11.915 ms    0/  268 (0%)\\r\\n[  3] 0.0000-2.1179 sec  187 datagrams received out-of-order\\r\\n[  3]  0.0- 3.0 sec   764 KBytes  2.12 Mbits/sec  11.915 ms    0/  268 (0%)\\r\\n[  3] 0.0000-2.9532 sec  264 datagrams received out-of-order\\r\\n'\n",
      "\n",
      "\n",
      "\n",
      "b'[ ID] Interval       Transfer     Bandwidth        Jitter   Lost/Total Datagrams\\r\\n[  3]  0.0- 1.7 sec   212 KBytes  1.05 Mbits/sec   0.038 ms  120/  268 (45%)\\r\\n[  4] local 224.0.0.2 port 582 connected with 192.168.1.172 port 37349\\r\\n'\n",
      "\n",
      "\n",
      "\n"
     ]
    }
   ],
   "source": [
    "def test_oneCombination(combinationIndex):\n",
    "    csv_abspath=os.getcwd()+\"/\"+CSV_filename\n",
    "    pandas.DataFrame([[[\"\",combinations[combinationIndex],\"\"]]]).to_csv(csv_abspath,index=False,header=False,mode=\"a\")\n",
    "    pandas.DataFrame([[\"ip address\",\"port\",\"loss rate(in %)\"]]).to_csv(csv_abspath,index=False,header=False,mode=\"a\")\n",
    "    for multicastip in ipaddrs:\n",
    "        for port in ports:\n",
    "            server=\"iperf -s -u -B \"+multicastip+\" -p \"+port+\" & sleep 4\\n\"\n",
    "            server_shell.send(server)\n",
    "            wait4response(server_shell)\n",
    "            \n",
    "            client=\"iperf -c \"+multicastip+\" -u -t3 -i1 -T999 -p \"+port+\"\\n\"\n",
    "            ssh_client.exec_command(client)\n",
    "            \n",
    "            result=wait4expected(server_shell,'%)','159')\n",
    "            print(result)\n",
    "            print(\"\\n\\n\")\n",
    "            loss_rate=result[result.rfind(\"(\")+1:result.rfind(\")\")-1]\n",
    "            pandas.DataFrame([[multicastip,port,loss_rate]]).to_csv(csv_abspath,index=False,header=False,mode=\"a\")\n",
    "            \n",
    "# def test_allCombinations0():\n",
    "#     combinationIndex=0\n",
    "#     for ssid_s in [-1]:\n",
    "#         connect(server_shell,ssid_s)   \n",
    "#         for ssid_c in [-1]:\n",
    "#             connect(client_shell,ssid_c)\n",
    "#             test_oneCombination(combinationIndex)\n",
    "#             combinationIndex+=1\n",
    "# def test_allCombinations1():\n",
    "#     combinationIndex=0\n",
    "#     for ssid_s in [-1,ssid_5g]:\n",
    "#         connect(server_shell,ssid_s)   \n",
    "#         for ssid_c in [-1,ssid_5g]:\n",
    "#             connect(client_shell,ssid_c)\n",
    "#             test_oneCombination(combinationIndex)\n",
    "#             combinationIndex+=1\n",
    "            \n",
    "def test_allCombinations():\n",
    "    combinationIndex=0\n",
    "    for ssid_s in [-1,ssid_2g,ssid_5g]:\n",
    "        connect(server_shell,ssid_s)   \n",
    "        for ssid_c in [-1,ssid_2g,ssid_5g]:\n",
    "            connect(client_shell,ssid_c)\n",
    "            test_oneCombination(combinationIndex)\n",
    "            combinationIndex+=1\n",
    "            \n",
    "test_allCombinations()"
   ]
  },
  {
   "cell_type": "code",
   "execution_count": 138,
   "metadata": {},
   "outputs": [],
   "source": [
    "ssh_server.close()\n",
    "ssh_client.close()"
   ]
  }
 ],
 "metadata": {
  "kernelspec": {
   "display_name": "Python 3",
   "language": "python",
   "name": "python3"
  },
  "language_info": {
   "codemirror_mode": {
    "name": "ipython",
    "version": 3
   },
   "file_extension": ".py",
   "mimetype": "text/x-python",
   "name": "python",
   "nbconvert_exporter": "python",
   "pygments_lexer": "ipython3",
   "version": "3.8.5"
  }
 },
 "nbformat": 4,
 "nbformat_minor": 4
}
